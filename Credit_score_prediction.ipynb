{
 "cells": [
  {
   "cell_type": "code",
   "execution_count": 238,
   "id": "28a04540-e546-472f-930b-6211fb017694",
   "metadata": {},
   "outputs": [],
   "source": [
    "import pandas as pd\n",
    "from ydata_profiling import ProfileReport"
   ]
  },
  {
   "cell_type": "code",
   "execution_count": 258,
   "id": "157b34bc-c9b8-44ef-82db-c8e30e512c1c",
   "metadata": {},
   "outputs": [],
   "source": [
    "train = pd.read_csv(\"train.csv\")\n",
    "test = pd.read_csv(\"test.csv\")"
   ]
  },
  {
   "cell_type": "code",
   "execution_count": 259,
   "id": "d135f8b0-eada-4ee7-acb5-b2572e388bfa",
   "metadata": {},
   "outputs": [
    {
     "data": {
      "text/html": [
       "<div>\n",
       "<style scoped>\n",
       "    .dataframe tbody tr th:only-of-type {\n",
       "        vertical-align: middle;\n",
       "    }\n",
       "\n",
       "    .dataframe tbody tr th {\n",
       "        vertical-align: top;\n",
       "    }\n",
       "\n",
       "    .dataframe thead th {\n",
       "        text-align: right;\n",
       "    }\n",
       "</style>\n",
       "<table border=\"1\" class=\"dataframe\">\n",
       "  <thead>\n",
       "    <tr style=\"text-align: right;\">\n",
       "      <th></th>\n",
       "      <th>Age</th>\n",
       "      <th>Occupation</th>\n",
       "      <th>Annual_Income</th>\n",
       "      <th>Monthly_Inhand_Salary</th>\n",
       "      <th>Num_Bank_Accounts</th>\n",
       "      <th>Num_Credit_Card</th>\n",
       "      <th>Interest_Rate</th>\n",
       "      <th>Num_of_Loan</th>\n",
       "      <th>Type_of_Loan</th>\n",
       "      <th>Delay_from_due_date</th>\n",
       "      <th>...</th>\n",
       "      <th>Credit_Mix</th>\n",
       "      <th>Outstanding_Debt</th>\n",
       "      <th>Credit_Utilization_Ratio</th>\n",
       "      <th>Credit_History_Age</th>\n",
       "      <th>Payment_of_Min_Amount</th>\n",
       "      <th>Total_EMI_per_month</th>\n",
       "      <th>Amount_invested_monthly</th>\n",
       "      <th>Payment_Behaviour</th>\n",
       "      <th>Monthly_Balance</th>\n",
       "      <th>Credit_Score</th>\n",
       "    </tr>\n",
       "  </thead>\n",
       "  <tbody>\n",
       "    <tr>\n",
       "      <th>0</th>\n",
       "      <td>23.0</td>\n",
       "      <td>Scientist</td>\n",
       "      <td>19114.12</td>\n",
       "      <td>1824.843333</td>\n",
       "      <td>3.0</td>\n",
       "      <td>4.0</td>\n",
       "      <td>3.0</td>\n",
       "      <td>4.0</td>\n",
       "      <td>auto loan,credit-builder loan,personal loan,ho...</td>\n",
       "      <td>3.0</td>\n",
       "      <td>...</td>\n",
       "      <td>Good</td>\n",
       "      <td>809.98</td>\n",
       "      <td>26.82262</td>\n",
       "      <td>265.0</td>\n",
       "      <td>No</td>\n",
       "      <td>49.574949</td>\n",
       "      <td>21.46538</td>\n",
       "      <td>High_spent_Small_value_payments</td>\n",
       "      <td>312.494089</td>\n",
       "      <td>Good</td>\n",
       "    </tr>\n",
       "    <tr>\n",
       "      <th>1</th>\n",
       "      <td>23.0</td>\n",
       "      <td>Scientist</td>\n",
       "      <td>19114.12</td>\n",
       "      <td>1824.843333</td>\n",
       "      <td>3.0</td>\n",
       "      <td>4.0</td>\n",
       "      <td>3.0</td>\n",
       "      <td>4.0</td>\n",
       "      <td>auto loan,credit-builder loan,personal loan,ho...</td>\n",
       "      <td>3.0</td>\n",
       "      <td>...</td>\n",
       "      <td>Good</td>\n",
       "      <td>809.98</td>\n",
       "      <td>31.94496</td>\n",
       "      <td>266.0</td>\n",
       "      <td>No</td>\n",
       "      <td>49.574949</td>\n",
       "      <td>21.46538</td>\n",
       "      <td>Low_spent_Large_value_payments</td>\n",
       "      <td>284.629162</td>\n",
       "      <td>Good</td>\n",
       "    </tr>\n",
       "  </tbody>\n",
       "</table>\n",
       "<p>2 rows × 23 columns</p>\n",
       "</div>"
      ],
      "text/plain": [
       "    Age Occupation  Annual_Income  Monthly_Inhand_Salary  Num_Bank_Accounts  \\\n",
       "0  23.0  Scientist       19114.12            1824.843333                3.0   \n",
       "1  23.0  Scientist       19114.12            1824.843333                3.0   \n",
       "\n",
       "   Num_Credit_Card  Interest_Rate  Num_of_Loan  \\\n",
       "0              4.0            3.0          4.0   \n",
       "1              4.0            3.0          4.0   \n",
       "\n",
       "                                        Type_of_Loan  Delay_from_due_date  \\\n",
       "0  auto loan,credit-builder loan,personal loan,ho...                  3.0   \n",
       "1  auto loan,credit-builder loan,personal loan,ho...                  3.0   \n",
       "\n",
       "   ...  Credit_Mix  Outstanding_Debt  Credit_Utilization_Ratio  \\\n",
       "0  ...        Good            809.98                  26.82262   \n",
       "1  ...        Good            809.98                  31.94496   \n",
       "\n",
       "  Credit_History_Age  Payment_of_Min_Amount  Total_EMI_per_month  \\\n",
       "0              265.0                     No            49.574949   \n",
       "1              266.0                     No            49.574949   \n",
       "\n",
       "   Amount_invested_monthly                Payment_Behaviour  Monthly_Balance  \\\n",
       "0                 21.46538  High_spent_Small_value_payments       312.494089   \n",
       "1                 21.46538   Low_spent_Large_value_payments       284.629162   \n",
       "\n",
       "   Credit_Score  \n",
       "0          Good  \n",
       "1          Good  \n",
       "\n",
       "[2 rows x 23 columns]"
      ]
     },
     "execution_count": 259,
     "metadata": {},
     "output_type": "execute_result"
    }
   ],
   "source": [
    "train.drop(columns=['ID', 'Customer_ID', 'Month', 'Name', 'SSN'], inplace=True)\n",
    "test.drop(columns=['ID', 'Customer_ID', 'Month', 'Name', 'SSN'], inplace=True)\n",
    "train.head(2)"
   ]
  },
  {
   "cell_type": "code",
   "execution_count": 241,
   "id": "49baef09-0019-4cfe-8a64-54e0d53000ed",
   "metadata": {},
   "outputs": [
    {
     "data": {
      "text/plain": [
       "((80000, 22), (80000,), (20000, 22), (20000,), (50000, 22))"
      ]
     },
     "execution_count": 241,
     "metadata": {},
     "output_type": "execute_result"
    }
   ],
   "source": [
    "X_train, X_val, y_train, y_val = train_test_split(X, y, test_size=0.2, random_state=42)\n",
    "\n",
    "X_train.shape, y_train.shape, X_val.shape, y_val.shape, X_test.shape, "
   ]
  },
  {
   "cell_type": "code",
   "execution_count": 242,
   "id": "ce34b5e6-1598-474f-8377-cd92a8c4bb03",
   "metadata": {
    "jupyter": {
     "source_hidden": true
    },
    "tags": []
   },
   "outputs": [],
   "source": [
    "from sklearn.base import BaseEstimator, TransformerMixin\n",
    "\n",
    "class GetDummies(BaseEstimator, TransformerMixin): \n",
    "    def __init__(self, data_sep=',', col_name_sep='_'):\n",
    "        \"\"\"\n",
    "        Transformer that creates dummy variables from categorical columns with a separator.\n",
    "        Parameters:\n",
    "            - data_sep (str): Separator used to split categorical values into multiple dummy variables.\n",
    "            - col_name_sep (str): Separator used to separate the column name from the prefix in the output column names.\n",
    "        \"\"\"\n",
    "        self.data_sep     = data_sep\n",
    "        self.col_name_sep = col_name_sep\n",
    "        \n",
    "    # Return self nothing else to do here\n",
    "    def fit(self, X, y  = None): \n",
    "        \"\"\"\n",
    "        Fit the transformer to the data.\n",
    "        Parameters:\n",
    "            - X (pandas.DataFrame): Input data with categorical columns.\n",
    "            - y (array-like): Target variable (ignored).\n",
    "        Returns:\n",
    "            - self: Returns the transformer object.\n",
    "        \"\"\"\n",
    "        object_cols       = X.select_dtypes(include=\"object\").columns\n",
    "        self.dummy_cols   = [col for col in object_cols if X[col].str.contains(self.data_sep, regex=True).any()]\n",
    "        self.dummy_prefix = [''.join(map(lambda x: x[0], col.split(self.col_name_sep)))  if self.col_name_sep in col else col[:2]   for col in self.dummy_cols]\n",
    "        \n",
    "        for col, pre in zip(self.dummy_cols, self.dummy_prefix):\n",
    "            dummy_X = X.join(X[col].str.get_dummies(sep=self.data_sep).add_prefix(pre+self.col_name_sep))            \n",
    "            \n",
    "        dummy_X.drop(columns = self.dummy_cols, inplace=True)\n",
    "        self.columns = dummy_X.columns\n",
    "        return self\n",
    "    \n",
    "    # Transformer method we wrote for this transformer\n",
    "    def transform(self, X, y = None):\n",
    "        \"\"\"\n",
    "        Transform the input data by creating dummy variables.\n",
    "        Parameters:\n",
    "            - X (pandas.DataFrame): Input data with categorical columns.\n",
    "            - y (array-like): Target variable (ignored).\n",
    "        Returns:\n",
    "            - X_transformed (pandas.DataFrame): Transformed data with dummy variables.\n",
    "        \"\"\"\n",
    "        for col, pre in zip(self.dummy_cols, self.dummy_prefix):\n",
    "            X_transformed = X.join(X[col].str.get_dummies(sep=self.data_sep).add_prefix(pre+self.col_name_sep))   \n",
    "\n",
    "        X_transformed = X_transformed.reindex(columns=self.columns, fill_value=0)          \n",
    "        return X_transformed\n",
    "        \n",
    "    # to get feature names    \n",
    "    def get_feature_names_out(self, input_features=None):\n",
    "        \"\"\"\n",
    "        Get the names of the transformed features.\n",
    "        Parameters:\n",
    "            - input_features (array-like): Names of the input features (ignored).\n",
    "        Returns:\n",
    "            - output_features (list): Names of the transformed features.\n",
    "        \"\"\"\n",
    "        return self.columns.tolist()"
   ]
  },
  {
   "cell_type": "code",
   "execution_count": 243,
   "id": "ae86b584-bda1-42b8-bb28-ac1cd9e33ac1",
   "metadata": {},
   "outputs": [
    {
     "data": {
      "text/plain": [
       "((80000, 31), (20000, 31))"
      ]
     },
     "execution_count": 243,
     "metadata": {},
     "output_type": "execute_result"
    }
   ],
   "source": [
    "dummy = GetDummies()\n",
    "\n",
    "X_train_dummy = dummy.fit_transform(X_train)\n",
    "X_val_dummy   = dummy.transform(X_val)\n",
    "\n",
    "X_train_dummy.shape, X_val_dummy.shape"
   ]
  },
  {
   "cell_type": "code",
   "execution_count": 293,
   "id": "10ffa7dd-04fa-44ae-b815-ec937ad79257",
   "metadata": {},
   "outputs": [
    {
     "name": "stdout",
     "output_type": "stream",
     "text": [
      "Shape of X_train_final: (80000, 50)\n",
      "Shape of X_val_final: (20000, 50)\n"
     ]
    }
   ],
   "source": [
    "cat_columns = X_train_dummy.select_dtypes(include=\"object\").columns.tolist()\n",
    "\n",
    "# Create dummy variables for train and validation sets\n",
    "X_train_dummies = pd.get_dummies(X_train_dummy[cat_columns], drop_first=True)\n",
    "X_val_dummies = pd.get_dummies(X_val_dummy[cat_columns], drop_first=True)\n",
    "\n",
    "# Concatenate dummy variables with numeric columns\n",
    "X_train_final = pd.concat([X_train_dummies, X_train_dummy.select_dtypes(\"number\")], axis=1)\n",
    "X_val_final = pd.concat([X_val_dummies, X_val_dummy.select_dtypes(\"number\")], axis=1)\n",
    "\n",
    "# Shape of the resulting DataFrames\n",
    "print(\"Shape of X_train_final:\", X_train_final.shape)\n",
    "print(\"Shape of X_val_final:\", X_val_final.shape)"
   ]
  },
  {
   "cell_type": "code",
   "execution_count": 245,
   "id": "7dbac280-efd5-409e-b804-b63c9c5a56dd",
   "metadata": {},
   "outputs": [
    {
     "name": "stdout",
     "output_type": "stream",
     "text": [
      "['Good' 'Poor' 'Standard']\n"
     ]
    },
    {
     "data": {
      "text/plain": [
       "0    14301\n",
       "1    23124\n",
       "2    42575\n",
       "Name: count, dtype: int64"
      ]
     },
     "execution_count": 245,
     "metadata": {},
     "output_type": "execute_result"
    }
   ],
   "source": [
    "import numpy as np\n",
    "from sklearn.preprocessing import LabelEncoder\n",
    "\n",
    "le      = LabelEncoder()\n",
    "print(np.unique(y_train))\n",
    "y_train = le.fit_transform(y_train)\n",
    "y_val   = le.transform(y_val)\n",
    "\n",
    "pd.DataFrame(y_train).value_counts().sort_index()"
   ]
  },
  {
   "cell_type": "code",
   "execution_count": 288,
   "id": "1a3f8a5d-bfc3-48fc-bdb0-f6f8e3178bcd",
   "metadata": {},
   "outputs": [],
   "source": [
    "from sklearn.preprocessing import StandardScaler, MinMaxScaler, RobustScaler\n",
    "\n",
    "# Initialize the scaler\n",
    "scaler = MinMaxScaler()\n",
    "\n",
    "# Fit and transform the scaler on training data\n",
    "X_train_scaled = pd.DataFrame(scaler.fit_transform(X_train_final), columns=X_train_final.columns)\n",
    "\n",
    "# Transform validation data using the same scaler\n",
    "X_val_scaled = pd.DataFrame(scaler.transform(X_val_final), columns=X_val_final.columns)"
   ]
  },
  {
   "cell_type": "code",
   "execution_count": 257,
   "id": "b4d53d51-7695-4570-af16-6b6c6e304ba5",
   "metadata": {},
   "outputs": [
    {
     "name": "stdout",
     "output_type": "stream",
     "text": [
      "Best Hyperparameters: {'learning_rate': 0.3, 'max_depth': 6, 'n_estimators': 150}\n",
      "Confusion Matrix:\n",
      "[[2701   27  799]\n",
      " [ 105 4678 1091]\n",
      " [ 798 1263 8538]]\n",
      "\n",
      "Classification Report:\n",
      "              precision    recall  f1-score   support\n",
      "\n",
      "           0       0.75      0.77      0.76      3527\n",
      "           1       0.78      0.80      0.79      5874\n",
      "           2       0.82      0.81      0.81     10599\n",
      "\n",
      "    accuracy                           0.80     20000\n",
      "   macro avg       0.78      0.79      0.79     20000\n",
      "weighted avg       0.80      0.80      0.80     20000\n",
      "\n"
     ]
    }
   ],
   "source": [
    "from xgboost import XGBClassifier\n",
    "from sklearn.model_selection import GridSearchCV\n",
    "import numpy as np\n",
    "\n",
    "# Initial XGBoost Training\n",
    "xgb = XGBClassifier(random_state=42)\n",
    "xgb.fit(X_train_scaled, y_train)\n",
    "\n",
    "# Hyperparameter Tuning using GridSearchCV\n",
    "model = XGBClassifier(random_state=42)\n",
    "param_grid = {\n",
    "    'n_estimators': [50, 100, 150],\n",
    "    'learning_rate': np.linspace(0.01, 0.3, 2).round(3),\n",
    "    'max_depth': [5, 6],\n",
    "}\n",
    "\n",
    "grid_model_xgb = GridSearchCV(\n",
    "    estimator=model,\n",
    "    param_grid=param_grid,\n",
    "    scoring='accuracy',\n",
    "    error_score='raise',\n",
    "    n_jobs=-1,\n",
    "    cv=5,\n",
    ")\n",
    "\n",
    "# Fit the grid search model to find the best hyperparameters\n",
    "grid_model_xgb.fit(X_train_scaled, y_train)\n",
    "\n",
    "# Get the best hyperparameters and best estimator\n",
    "best_params = grid_model_xgb.best_params_\n",
    "best_xgb_model = grid_model_xgb.best_estimator_\n",
    "\n",
    "# Evaluate the best model on the validation set (X_val_scaled and y_val)\n",
    "y_val_pred = best_xgb_model.predict(X_val_scaled)\n",
    "\n",
    "# Print best hyperparameters and evaluate model performance\n",
    "print(\"Best Hyperparameters:\", best_params)\n",
    "print(\"Confusion Matrix:\")\n",
    "print(confusion_matrix(y_val, y_val_pred))\n",
    "print(\"\\nClassification Report:\")\n",
    "print(classification_report(y_val, y_val_pred))"
   ]
  },
  {
   "cell_type": "code",
   "execution_count": 292,
   "id": "716cefe0-a5c7-440f-a95d-ad634e260838",
   "metadata": {},
   "outputs": [
    {
     "name": "stdout",
     "output_type": "stream",
     "text": [
      "Please enter numeric feature values:\n"
     ]
    },
    {
     "name": "stdin",
     "output_type": "stream",
     "text": [
      "Enter value for 'Age':  30\n",
      "Enter value for 'Annual_Income':  100000\n",
      "Enter value for 'Monthly_Inhand_Salary':  200000\n",
      "Enter value for 'Num_Bank_Accounts':  2\n",
      "Enter value for 'Num_Credit_Card':  2\n",
      "Enter value for 'Interest_Rate':  1\n",
      "Enter value for 'Num_of_Loan':  0\n",
      "Enter value for 'Delay_from_due_date':  0\n",
      "Enter value for 'Num_of_Delayed_Payment':  0\n",
      "Enter value for 'Changed_Credit_Limit':  0\n",
      "Enter value for 'Num_Credit_Inquiries':  2\n",
      "Enter value for 'Outstanding_Debt':  0\n",
      "Enter value for 'Credit_Utilization_Ratio':  0\n",
      "Enter value for 'Credit_History_Age':  0\n",
      "Enter value for 'Total_EMI_per_month':  0\n",
      "Enter value for 'Amount_invested_monthly':  100000\n",
      "Enter value for 'Monthly_Balance':  10000\n"
     ]
    },
    {
     "name": "stdout",
     "output_type": "stream",
     "text": [
      "Please select your occupation:\n",
      "1: Occupation_Architect\n",
      "2: Occupation_Developer\n",
      "3: Occupation_Doctor\n",
      "4: Occupation_Engineer\n",
      "5: Occupation_Entrepreneur\n",
      "6: Occupation_Journalist\n",
      "7: Occupation_Lawyer\n",
      "8: Occupation_Manager\n",
      "9: Occupation_Mechanic\n",
      "10: Occupation_Media_Manager\n",
      "11: Occupation_Musician\n",
      "12: Occupation_Scientist\n",
      "13: Occupation_Teacher\n",
      "14: Occupation_Writer\n"
     ]
    },
    {
     "name": "stdin",
     "output_type": "stream",
     "text": [
      "Select your occupation (enter the corresponding number):  7\n"
     ]
    },
    {
     "name": "stdout",
     "output_type": "stream",
     "text": [
      "Please select your loan types (choose multiple):\n",
      "Select a loan type:\n",
      "1: ToL_No Data\n",
      "2: ToL_auto loan\n",
      "3: ToL_credit-builder loan\n",
      "4: ToL_debt consolidation loan\n",
      "5: ToL_home equity loan\n",
      "6: ToL_mortgage loan\n",
      "7: ToL_not specified\n",
      "8: ToL_payday loan\n",
      "9: ToL_personal loan\n",
      "10: ToL_student loan\n"
     ]
    },
    {
     "name": "stdin",
     "output_type": "stream",
     "text": [
      "Enter the corresponding number or 'done' to finish:  done\n"
     ]
    },
    {
     "name": "stdout",
     "output_type": "stream",
     "text": [
      "Predicted Credit Score Labels: Standard\n"
     ]
    }
   ],
   "source": [
    "import pandas as pd\n",
    "\n",
    "# Define all possible dummy variable column names\n",
    "dummy_columns = [\n",
    "    'Occupation_Architect', 'Occupation_Developer', 'Occupation_Doctor',\n",
    "    'Occupation_Engineer', 'Occupation_Entrepreneur', 'Occupation_Journalist',\n",
    "    'Occupation_Lawyer', 'Occupation_Manager', 'Occupation_Mechanic',\n",
    "    'Occupation_Media_Manager', 'Occupation_Musician', 'Occupation_Scientist',\n",
    "    'Occupation_Teacher', 'Occupation_Writer', 'Credit_Mix_Good',\n",
    "    'Credit_Mix_Standard', 'Payment_of_Min_Amount_No', 'Payment_of_Min_Amount_Yes',\n",
    "    'Payment_Behaviour_High_spent_Medium_value_payments',\n",
    "    'Payment_Behaviour_High_spent_Small_value_payments',\n",
    "    'Payment_Behaviour_Low_spent_Large_value_payments',\n",
    "    'Payment_Behaviour_Low_spent_Medium_value_payments',\n",
    "    'Payment_Behaviour_Low_spent_Small_value_payments',\n",
    "    'ToL_No Data', 'ToL_auto loan', 'ToL_credit-builder loan',\n",
    "    'ToL_debt consolidation loan', 'ToL_home equity loan', 'ToL_mortgage loan',\n",
    "    'ToL_not specified', 'ToL_payday loan', 'ToL_personal loan', 'ToL_student loan'\n",
    "]\n",
    "\n",
    "# Initialize user input dictionary with all columns set to 0\n",
    "user_input = {column: 0 for column in dummy_columns}\n",
    "\n",
    "# Collect user inputs for numeric features\n",
    "numeric_features = [\n",
    "    'Age', 'Annual_Income', 'Monthly_Inhand_Salary', 'Num_Bank_Accounts', 'Num_Credit_Card',\n",
    "    'Interest_Rate', 'Num_of_Loan', 'Delay_from_due_date', 'Num_of_Delayed_Payment',\n",
    "    'Changed_Credit_Limit', 'Num_Credit_Inquiries', 'Outstanding_Debt',\n",
    "    'Credit_Utilization_Ratio', 'Credit_History_Age', 'Total_EMI_per_month',\n",
    "    'Amount_invested_monthly', 'Monthly_Balance'\n",
    "]\n",
    "\n",
    "print(\"Please enter numeric feature values:\")\n",
    "for feature in numeric_features:\n",
    "    value = float(input(f\"Enter value for '{feature}': \"))\n",
    "    user_input[feature] = value\n",
    "\n",
    "# Collect user input for Occupation (choose one)\n",
    "print(\"Please select your occupation:\")\n",
    "occupations = [\n",
    "    'Occupation_Architect', 'Occupation_Developer', 'Occupation_Doctor',\n",
    "    'Occupation_Engineer', 'Occupation_Entrepreneur', 'Occupation_Journalist',\n",
    "    'Occupation_Lawyer', 'Occupation_Manager', 'Occupation_Mechanic',\n",
    "    'Occupation_Media_Manager', 'Occupation_Musician', 'Occupation_Scientist',\n",
    "    'Occupation_Teacher', 'Occupation_Writer'\n",
    "]\n",
    "\n",
    "for i, occupation in enumerate(occupations):\n",
    "    print(f\"{i + 1}: {occupation}\")\n",
    "occupation_choice = int(input(\"Select your occupation (enter the corresponding number): \"))\n",
    "selected_occupation = occupations[occupation_choice - 1]\n",
    "\n",
    "# Set selected occupation to 1 in user input\n",
    "user_input[selected_occupation] = 1\n",
    "\n",
    "# Collect user input for Type_of_Loan (choose multiple)\n",
    "print(\"Please select your loan types (choose multiple):\")\n",
    "loan_types = [\n",
    "    'ToL_No Data', 'ToL_auto loan', 'ToL_credit-builder loan',\n",
    "    'ToL_debt consolidation loan', 'ToL_home equity loan', 'ToL_mortgage loan',\n",
    "    'ToL_not specified', 'ToL_payday loan', 'ToL_personal loan', 'ToL_student loan'\n",
    "]\n",
    "\n",
    "selected_loan_types = []\n",
    "while True:\n",
    "    print(\"Select a loan type:\")\n",
    "    for i, loan_type in enumerate(loan_types):\n",
    "        print(f\"{i + 1}: {loan_type}\")\n",
    "    loan_choice = input(\"Enter the corresponding number or 'done' to finish: \")\n",
    "    if loan_choice == 'done':\n",
    "        break\n",
    "    else:\n",
    "        loan_choice = int(loan_choice)\n",
    "        selected_loan_type = loan_types[loan_choice - 1]\n",
    "        selected_loan_types.append(selected_loan_type)\n",
    "\n",
    "# Set selected loan types to 1 in user input\n",
    "for loan_type in selected_loan_types:\n",
    "    user_input[loan_type] = 1\n",
    "\n",
    "# Create a DataFrame from user input\n",
    "user_df = pd.DataFrame(user_input, index=[0])\n",
    "\n",
    "correct_column_order = [\n",
    "    'Occupation_Architect', 'Occupation_Developer', 'Occupation_Doctor',\n",
    "    'Occupation_Engineer', 'Occupation_Entrepreneur', 'Occupation_Journalist',\n",
    "    'Occupation_Lawyer', 'Occupation_Manager', 'Occupation_Mechanic',\n",
    "    'Occupation_Media_Manager', 'Occupation_Musician', 'Occupation_Scientist',\n",
    "    'Occupation_Teacher', 'Occupation_Writer', 'Credit_Mix_Good',\n",
    "    'Credit_Mix_Standard', 'Payment_of_Min_Amount_No', 'Payment_of_Min_Amount_Yes',\n",
    "    'Payment_Behaviour_High_spent_Medium_value_payments',\n",
    "    'Payment_Behaviour_High_spent_Small_value_payments',\n",
    "    'Payment_Behaviour_Low_spent_Large_value_payments',\n",
    "    'Payment_Behaviour_Low_spent_Medium_value_payments',\n",
    "    'Payment_Behaviour_Low_spent_Small_value_payments', 'Age', 'Annual_Income',\n",
    "    'Monthly_Inhand_Salary', 'Num_Bank_Accounts', 'Num_Credit_Card',\n",
    "    'Interest_Rate', 'Num_of_Loan', 'Delay_from_due_date', 'Num_of_Delayed_Payment',\n",
    "    'Changed_Credit_Limit', 'Num_Credit_Inquiries', 'Outstanding_Debt',\n",
    "    'Credit_Utilization_Ratio', 'Credit_History_Age', 'Total_EMI_per_month',\n",
    "    'Amount_invested_monthly', 'Monthly_Balance', 'ToL_No Data', 'ToL_auto loan',\n",
    "    'ToL_credit-builder loan', 'ToL_debt consolidation loan', 'ToL_home equity loan',\n",
    "    'ToL_mortgage loan', 'ToL_not specified', 'ToL_payday loan', 'ToL_personal loan',\n",
    "    'ToL_student loan'\n",
    "]\n",
    "# Reorder the columns in the user_df DataFrame\n",
    "user_df = user_df[correct_column_order]\n",
    "# Display the user's input DataFrame\n",
    "\n",
    "scaler = MinMaxScaler()\n",
    "\n",
    "# Fit and transform the user's input DataFrame\n",
    "user_df_scaled = pd.DataFrame(scaler.fit_transform(user_df), columns=user_df.columns)\n",
    "\n",
    "user_prediction = best_xgb_model.predict(user_df_scaled)\n",
    "\n",
    "# Assuming user_prediction contains the predicted credit score (0, 1, or 2)\n",
    "original_labels = ['Good', 'Poor', 'Standard']\n",
    "predicted_labels = [original_labels[prediction] for prediction in user_prediction]\n",
    "\n",
    "# Display the predicted credit score labels\n",
    "print(\"Predicted Credit Score Labels:\", predicted_labels[0])"
   ]
  },
  {
   "cell_type": "code",
   "execution_count": 294,
   "id": "c284806b-5f50-47f8-9b79-b0acdbf26009",
   "metadata": {},
   "outputs": [],
   "source": [
    "import pickle\n",
    "\n",
    "# Save the trained model to a pickle file\n",
    "with open('xgb_model.pkl', 'wb') as file:\n",
    "    pickle.dump(best_xgb_model, file)"
   ]
  }
 ],
 "metadata": {
  "kernelspec": {
   "display_name": "Python 3 (ipykernel)",
   "language": "python",
   "name": "python3"
  },
  "language_info": {
   "codemirror_mode": {
    "name": "ipython",
    "version": 3
   },
   "file_extension": ".py",
   "mimetype": "text/x-python",
   "name": "python",
   "nbconvert_exporter": "python",
   "pygments_lexer": "ipython3",
   "version": "3.10.9"
  }
 },
 "nbformat": 4,
 "nbformat_minor": 5
}
